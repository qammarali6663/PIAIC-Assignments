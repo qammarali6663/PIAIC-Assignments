{
 "cells": [
  {
   "cell_type": "markdown",
   "metadata": {},
   "source": [
    "#               Percentage Calculator"
   ]
  },
  {
   "cell_type": "code",
   "execution_count": 14,
   "metadata": {},
   "outputs": [
    {
     "name": "stdout",
     "output_type": "stream",
     "text": [
      "=> Enter your English's marks out of 100: 49.9999\n",
      "Your's marks in English are: 49.9999/100.0 \n",
      "\n",
      "=> Enter your Maths's marks out of 100: 49.999\n",
      "Your's marks in Maths are: 49.999/100.0 \n",
      "\n",
      "=> Enter your Urdu's marks out of 100: 49.999\n",
      "Your's marks in Urdu are: 49.999/100.0 \n",
      "\n",
      "\t\t\t *** Here's Your Result ***\n",
      " => Total Marks = 149.9979/300\n",
      " => Percentage = 49.9993 % \n",
      " => Grade = FAIL \n",
      " => Remarks = Bad! You Need to Improve alot... \n",
      "\t\t     *** Credit goes to: Faizan Ali ***\n"
     ]
    }
   ],
   "source": [
    "# User's Input:\n",
    "marks1 = float(input(\"=> Enter your English's marks out of 100: \"))\n",
    "if marks1 <= 100:\n",
    "    print(\"Your's marks in English are: \" + str(marks1) +\"/100.0 \" )\n",
    "    marks2 = float(input(\"\\n=> Enter your Maths's marks out of 100: \"))\n",
    "    if marks2 <= 100:\n",
    "        print(\"Your's marks in Maths are: \" + str(marks2) +\"/100.0 \")\n",
    "        marks3 = float(input(\"\\n=> Enter your Urdu's marks out of 100: \"))\n",
    "        if marks3 <= 100:\n",
    "            print(\"Your's marks in Urdu are: \" + str(marks3) +\"/100.0 \")\n",
    "        else:\n",
    "            print(\"Marks shouldn't be more than 100. \")\n",
    "    else:\n",
    "        print(\"Marks shouldn't be more than 100. \")\n",
    "else:\n",
    "    print(\"Marks shouldn't be more than 100. \")    \n",
    "# Marks Processing:\n",
    "total_marks = marks1 + marks2 + marks3\n",
    "percentage = (total_marks/300)*100\n",
    "# Result:\n",
    "if marks1 <= 100 and marks2 <= 100 and marks3 <= 100:\n",
    "    print(\"\\n\\t\\t\\t *** Here's Your Result ***\")\n",
    "    print(\" => Total Marks = \" + str(total_marks) + \"/300\")\n",
    "    print(\" => Percentage = \" + str(percentage)+\" % \")\n",
    "    if percentage >= 80:\n",
    "        print(\" => Grade = A-ONE \\n => Remarks = Excellent \" )\n",
    "    elif percentage >= 70:\n",
    "        print(\" => Grade = A \\n => Remarks = Very Good \")\n",
    "    elif percentage >= 60:\n",
    "        print(\" => Grade = B \\n => Remarks = Good \")\n",
    "    elif percentage >= 50:\n",
    "        print(\" => Grade = C \\n => Remarks = Satisfactory, Needs Improvement... \")\n",
    "    elif percentage < 50:\n",
    "        print(\" => Grade = FAIL \\n => Remarks = Bad! You Need to Improve alot... \")\n",
    "    print(\"\\t\\t     *** Credit goes to: Faizan Ali ***\")\n",
    "else:\n",
    "    print(\"Please enter your correct marks.\")"
   ]
  },
  {
   "cell_type": "code",
   "execution_count": null,
   "metadata": {},
   "outputs": [],
   "source": []
  },
  {
   "cell_type": "code",
   "execution_count": 45,
   "metadata": {},
   "outputs": [
    {
     "name": "stdout",
     "output_type": "stream",
     "text": [
      "=> Enter your obtained marks of English out of 100: 95\n",
      "=> Enter your obtained marks of Maths out of 100: 90\n",
      "=> Enter your obtained marks of Physics out of 100: 85\n",
      "\n",
      "\t\t\t *** Here's Your Result *** \n",
      " => Total Marks = 270.0/300\n",
      " => Percentage = 90.0 % \n",
      " => Grade = A-ONE \n",
      " => Remarks = Excellent \n",
      "\n",
      "\t\t     *** Credit goes to: Faizan Ali *** \n"
     ]
    }
   ],
   "source": [
    "marks1 = float(input(\"=> Enter your obtained marks of English out of 100: \"))\n",
    "if marks1 <= 100:\n",
    "    marks2 = float(input(\"=> Enter your obtained marks of Maths out of 100: \"))\n",
    "    if marks2 <= 100:\n",
    "        marks3 = float(input(\"=> Enter your obtained marks of Physics out of 100: \"))\n",
    "        if marks3 > 100:\n",
    "            print(\"\\nMarks shouldn't be more than 100. \")\n",
    "    else:\n",
    "        print(\"\\nMarks shouldn't be more than 100. \")\n",
    "else:\n",
    "    print(\"\\nMarks shouldn't be more than 100. \")    \n",
    "total_marks = marks1 + marks2 + marks3\n",
    "percentage = (total_marks/300)*100\n",
    "if marks1 <= 100 and marks2 <= 100 and marks3 <= 100:\n",
    "    print(\"\\n\\t\\t\\t *** Here's Your Result *** \\n => Total Marks = \" + str(total_marks) + \"/300\")\n",
    "    print(\" => Percentage = \" + str(percentage)+\" % \")\n",
    "    if percentage >= 80:\n",
    "        print(\" => Grade = A-ONE \\n => Remarks = Excellent \" )\n",
    "    elif percentage >= 70:\n",
    "        print(\" => Grade = A \\n => Remarks = Very Good \")\n",
    "    elif percentage >= 60:\n",
    "        print(\" => Grade = B \\n => Remarks = Good \")\n",
    "    elif percentage >= 50:\n",
    "        print(\" => Grade = C \\n => Remarks = Satisfactory, Needs Improvement... \")\n",
    "    elif percentage < 50:\n",
    "        print(\" => Grade = FAIL \\n => Remarks = Bad! You Need to Improve alot... \")\n",
    "    print(\"\\n\\t\\t     *** Credit goes to: Faizan Ali *** \")\n",
    "else:\n",
    "    print(\"Please enter your correct marks.\")"
   ]
  },
  {
   "cell_type": "code",
   "execution_count": null,
   "metadata": {},
   "outputs": [],
   "source": []
  }
 ],
 "metadata": {
  "kernelspec": {
   "display_name": "Python 3",
   "language": "python",
   "name": "python3"
  },
  "language_info": {
   "codemirror_mode": {
    "name": "ipython",
    "version": 3
   },
   "file_extension": ".py",
   "mimetype": "text/x-python",
   "name": "python",
   "nbconvert_exporter": "python",
   "pygments_lexer": "ipython3",
   "version": "3.7.3"
  }
 },
 "nbformat": 4,
 "nbformat_minor": 2
}
