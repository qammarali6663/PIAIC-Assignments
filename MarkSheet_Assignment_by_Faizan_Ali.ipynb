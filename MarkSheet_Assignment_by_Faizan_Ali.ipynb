{
 "cells": [
  {
   "cell_type": "markdown",
   "metadata": {},
   "source": [
    "# Marksheet Assignment by: Faizan Ali\n",
    "Name: Faizan Ali\n",
    "Roll no: AIC043502"
   ]
  },
  {
   "cell_type": "code",
   "execution_count": null,
   "metadata": {},
   "outputs": [],
   "source": [
    "marks1 = float(input(\"=> Enter your obtained marks of English out of 100: \"))\n",
    "if marks1 <= 100:\n",
    "    marks2 = float(input(\"=> Enter your obtained marks of Maths out of 100: \"))\n",
    "    if marks2 <= 100:\n",
    "        marks3 = float(input(\"=> Enter your obtained marks of Physics out of 100: \"))\n",
    "        if marks3 > 100:\n",
    "            print(\"\\nMarks shouldn't be more than 100. \")\n",
    "    else:\n",
    "        print(\"\\nMarks shouldn't be more than 100. \")\n",
    "else:\n",
    "    print(\"\\nMarks shouldn't be more than 100. \")    \n",
    "total_marks = marks1 + marks2 + marks3\n",
    "percentage = (total_marks/300)*100\n",
    "if marks1 <= 100 and marks2 <= 100 and marks3 <= 100:\n",
    "    print(\"\\n\\t\\t\\t *** Here's Your Result *** \\n => Total Marks = \" + str(total_marks) + \"/300\")\n",
    "    print(\" => Percentage = \" + str(percentage)+\" % \")\n",
    "    if percentage >= 80:\n",
    "        print(\" => Grade = A-ONE \\n => Remarks = Excellent \" )\n",
    "    elif percentage >= 70:\n",
    "        print(\" => Grade = A \\n => Remarks = Very Good \")\n",
    "    elif percentage >= 60:\n",
    "        print(\" => Grade = B \\n => Remarks = Good \")\n",
    "    elif percentage >= 50:\n",
    "        print(\" => Grade = C \\n => Remarks = Satisfactory, Needs Improvement... \")\n",
    "    elif percentage < 50:\n",
    "        print(\" => Grade = FAIL \\n => Remarks = Bad! You Need to Improve alot... \")\n",
    "    print(\"\\n\\t\\t     *** Credit goes to: Faizan Ali *** \")\n",
    "else:\n",
    "    print(\"Please enter your correct marks.\")"
   ]
  }
 ],
 "metadata": {
  "kernelspec": {
   "display_name": "Python 3",
   "language": "python",
   "name": "python3"
  },
  "language_info": {
   "codemirror_mode": {
    "name": "ipython",
    "version": 3
   },
   "file_extension": ".py",
   "mimetype": "text/x-python",
   "name": "python",
   "nbconvert_exporter": "python",
   "pygments_lexer": "ipython3",
   "version": "3.7.3"
  }
 },
 "nbformat": 4,
 "nbformat_minor": 2
}
