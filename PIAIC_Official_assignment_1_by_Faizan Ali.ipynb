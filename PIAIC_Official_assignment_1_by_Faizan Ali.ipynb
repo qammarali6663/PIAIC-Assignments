{
 "cells": [
  {
   "cell_type": "raw",
   "metadata": {},
   "source": [
    "Full Name:-  Faizan Ali\n",
    "PIAIC Roll No:-  AIC043502\n",
    "Teacher Name:-  Muhammad Ali and Muhammad Hamza Khan\n",
    "Institute Name:-  Saylani Head Office\n",
    "Timing:-  Sunday - 6:45 PM TO 9:45 PM"
   ]
  },
  {
   "cell_type": "markdown",
   "metadata": {},
   "source": [
    "## 1. Calculate Area of a Circle"
   ]
  },
  {
   "cell_type": "markdown",
   "metadata": {},
   "source": [
    "#### Write a Python program which accepts the radius of a circle from the user and compute the area.\n",
    "###### Program Console Sample Output 1:\n",
    "###### Input Radius: 0.5\n",
    "###### Area of Circle with radius 0.5 is 0.7853981634"
   ]
  },
  {
   "cell_type": "code",
   "execution_count": 1,
   "metadata": {},
   "outputs": [
    {
     "name": "stdout",
     "output_type": "stream",
     "text": [
      "Enter Radius of Circle: 0.5\n",
      "Area of Circle with radius 0.5 is: 0.7855\n"
     ]
    }
   ],
   "source": [
    "radius = float(input(\"Enter Radius of Circle: \"))\n",
    "area = 3.142*(radius**2)\n",
    "                     \n",
    "print(\"Area of Circle with radius \" + str(radius)+\" is: \" + str(area))"
   ]
  },
  {
   "cell_type": "code",
   "execution_count": null,
   "metadata": {},
   "outputs": [],
   "source": []
  },
  {
   "cell_type": "markdown",
   "metadata": {},
   "source": [
    "## 2. Check Number either positive, negative or zero"
   ]
  },
  {
   "cell_type": "markdown",
   "metadata": {},
   "source": [
    "#### Write a Python program to check if a number is positive, negative or zero\n",
    "###### Program Console Sample Output 1:\n",
    "###### Enter Number: -1\n",
    "##### Negative Number Entered\n",
    "###### Program Console Sample Output 2:\n",
    "##### Integer: 3\n",
    "##### Positive Number Entered\n",
    "###### Program Console Sample Output 3:\n",
    "##### Integer: 0\n",
    "###### Zero Entered"
   ]
  },
  {
   "cell_type": "code",
   "execution_count": 2,
   "metadata": {},
   "outputs": [
    {
     "name": "stdout",
     "output_type": "stream",
     "text": [
      "Enter a Number: -1\n",
      "The number you entered is Negative. \n"
     ]
    }
   ],
   "source": [
    "number = float(input(\"Enter a Number: \"))\n",
    "if number == 0:\n",
    "    print(\"The number you entered is Zero. \")\n",
    "elif number >0:\n",
    "    print(\"The number you entered is Positive. \")\n",
    "else:\n",
    "    print(\"The number you entered is Negative. \")"
   ]
  },
  {
   "cell_type": "code",
   "execution_count": 3,
   "metadata": {},
   "outputs": [
    {
     "name": "stdout",
     "output_type": "stream",
     "text": [
      "Enter a Number: 3\n",
      "The number you entered is Positive. \n"
     ]
    }
   ],
   "source": [
    "number = float(input(\"Enter a Number: \"))\n",
    "if number == 0:\n",
    "    print(\"The number you entered is Zero. \")\n",
    "elif number >0:\n",
    "    print(\"The number you entered is Positive. \")\n",
    "else:\n",
    "    print(\"The number you entered is Negative. \")"
   ]
  },
  {
   "cell_type": "code",
   "execution_count": 4,
   "metadata": {},
   "outputs": [
    {
     "name": "stdout",
     "output_type": "stream",
     "text": [
      "Enter a Number: 0\n",
      "The number you entered is Zero. \n"
     ]
    }
   ],
   "source": [
    "number = float(input(\"Enter a Number: \"))\n",
    "if number == 0:\n",
    "    print(\"The number you entered is Zero. \")\n",
    "elif number >0:\n",
    "    print(\"The number you entered is Positive. \")\n",
    "else:\n",
    "    print(\"The number you entered is Negative. \")"
   ]
  },
  {
   "cell_type": "code",
   "execution_count": null,
   "metadata": {},
   "outputs": [],
   "source": []
  },
  {
   "cell_type": "markdown",
   "metadata": {},
   "source": [
    "## 3. Divisibility Check of two numbers"
   ]
  },
  {
   "cell_type": "markdown",
   "metadata": {},
   "source": [
    "#### Write a Python program to check whether a number is completely divisible by another number. Accept two integer values form the user\n",
    "##### Program Console Sample Output 1:\n",
    "###### Enter numerator: 4\n",
    "###### Enter Denominator: 2\n",
    "##### Number 4 is Completely divisible by 2\n",
    "###### Program Console Sample Output 2:\n",
    "##### Enter numerator: 7\n",
    "\n",
    "##### Enter Denominator: 4\n",
    "###### Number 7 is not Completely divisible by 4"
   ]
  },
  {
   "cell_type": "code",
   "execution_count": 5,
   "metadata": {},
   "outputs": [
    {
     "name": "stdout",
     "output_type": "stream",
     "text": [
      "Enter Numerator: 4\n",
      "Enter Denominator: 2\n",
      "\n",
      "4.0 is completely divisible by 2.0\n"
     ]
    }
   ],
   "source": [
    "num1 = float(input(\"Enter numerator: \".title()))\n",
    "num2 = float(input(\"Enter Denominator: \".title()))\n",
    "divide = num1 % num2\n",
    "if divide == 0:\n",
    "    print(\"\\n\" + str(num1) + \" is completely divisible by \" + str(num2))\n",
    "else:\n",
    "    print(\"\\n\"+str(num1)+\" is not completely divisible by \"+str(num2))"
   ]
  },
  {
   "cell_type": "code",
   "execution_count": 6,
   "metadata": {},
   "outputs": [
    {
     "name": "stdout",
     "output_type": "stream",
     "text": [
      "Enter Numerator: 7\n",
      "Enter Denominator: 4\n",
      "\n",
      "7.0 is not completely divisible by 4.0\n"
     ]
    }
   ],
   "source": [
    "num1 = float(input(\"Enter numerator: \".title()))\n",
    "num2 = float(input(\"Enter Denominator: \".title()))\n",
    "divide = num1 % num2\n",
    "if divide == 0:\n",
    "    print(\"\\n\" + str(num1) + \" is completely divisible by \" + str(num2))\n",
    "else:\n",
    "    print(\"\\n\"+str(num1)+\" is not completely divisible by \"+str(num2))"
   ]
  },
  {
   "cell_type": "code",
   "execution_count": null,
   "metadata": {},
   "outputs": [],
   "source": []
  },
  {
   "cell_type": "markdown",
   "metadata": {},
   "source": [
    "## 4. Calculate Volume of a sphere"
   ]
  },
  {
   "cell_type": "markdown",
   "metadata": {},
   "source": [
    "##### Write a Python program to get the volume of a sphere, please take the radius as input from user"
   ]
  },
  {
   "cell_type": "markdown",
   "metadata": {},
   "source": [
    "##### Program Console Output:\n",
    "##### Enter Radius of Sphere: 1\n",
    "###### Volume of the Sphere with Radius 1 is 4.18"
   ]
  },
  {
   "cell_type": "code",
   "execution_count": 7,
   "metadata": {},
   "outputs": [
    {
     "name": "stdout",
     "output_type": "stream",
     "text": [
      "Enter Radius of Sphere: 1\n",
      "Volume of the Sphere with radius 1.0 is: 4.189333333333333\n"
     ]
    }
   ],
   "source": [
    "radius = float(input(\"Enter Radius of Sphere: \"))\n",
    "volume = (4/3)*(3.142)*(radius**3)\n",
    "                     \n",
    "print(\"Volume of the Sphere with radius \" + str(radius)+\" is: \" + str(volume))"
   ]
  },
  {
   "cell_type": "code",
   "execution_count": null,
   "metadata": {},
   "outputs": [],
   "source": []
  },
  {
   "cell_type": "markdown",
   "metadata": {},
   "source": [
    "## 5. Copy string n times\n",
    "#### Write a Python program to get a string which is n (non-negative integer) copies of a given string.\n",
    "##### Program Console Output:\n",
    "##### Enter String: Hi\n",
    "###### How many copies of String you need: 4\n",
    "###### 4 Copies of Hi are HiHiHiHi"
   ]
  },
  {
   "cell_type": "code",
   "execution_count": 8,
   "metadata": {},
   "outputs": [
    {
     "name": "stdout",
     "output_type": "stream",
     "text": [
      "Enter String: Hi\n",
      "How many copies of String you need: 4\n",
      "4 Copies of Hi are: HiHiHiHi\n"
     ]
    }
   ],
   "source": [
    "string = input(\"Enter String: \")\n",
    "copies = int(input(\"How many copies of String you need: \"))\n",
    "ans = string * copies\n",
    "print(str(copies) + \" Copies of \" + string + \" are: \" + ans)"
   ]
  },
  {
   "cell_type": "code",
   "execution_count": null,
   "metadata": {},
   "outputs": [],
   "source": []
  },
  {
   "cell_type": "markdown",
   "metadata": {},
   "source": [
    "## 6. Check if number is Even or Odd\n",
    "### Write a Python program to find whether a given number (accept from the user) is even or odd, print out an appropriate message to the user\n",
    "#### Program Console Output 1:\n",
    "##### Enter Number: 4\n",
    "###### 4 is Even\n",
    "#### Program Console Output 2:\n",
    "##### Enter Number: 9\n",
    "###### 9 is Odd"
   ]
  },
  {
   "cell_type": "code",
   "execution_count": 9,
   "metadata": {},
   "outputs": [
    {
     "name": "stdout",
     "output_type": "stream",
     "text": [
      "Enter Number: 4\n",
      "\n",
      "=> 4.0 is Even.\n"
     ]
    }
   ],
   "source": [
    "number = float(input(\"Enter number: \".title()))\n",
    "remainder = number % 2\n",
    "if remainder == 0:\n",
    "    print(\"\\n=> \"+str(number) + \" is Even.\")\n",
    "else:\n",
    "    print(\"\\n=> \" + str(number) + \" is Odd.\")"
   ]
  },
  {
   "cell_type": "code",
   "execution_count": 10,
   "metadata": {},
   "outputs": [
    {
     "name": "stdout",
     "output_type": "stream",
     "text": [
      "Enter Number: 9\n",
      "\n",
      "=> 9.0 is Odd.\n"
     ]
    }
   ],
   "source": [
    "number = float(input(\"Enter number: \".title()))\n",
    "remainder = number % 2\n",
    "if remainder == 0:\n",
    "    print(\"\\n=> \"+str(number) + \" is Even.\")\n",
    "else:\n",
    "    print(\"\\n=> \" + str(number) + \" is Odd.\")"
   ]
  },
  {
   "cell_type": "code",
   "execution_count": null,
   "metadata": {},
   "outputs": [],
   "source": []
  },
  {
   "cell_type": "markdown",
   "metadata": {},
   "source": [
    "## 7. Vowel Tester\n",
    "### Write a Python program to test whether a passed letter is a vowel or not\n",
    "#### Program Console Output 1:\n",
    "##### Enter a character: A\n",
    "###### Letter A is Vowel\n",
    "#### Program Console Output 2:\n",
    "##### Enter a character: e\n",
    "###### Letter e is Vowel\n",
    "#### Program Console Output 2:\n",
    "##### Enter a character: N\n",
    "###### Letter N is not Vowel"
   ]
  },
  {
   "cell_type": "code",
   "execution_count": 1,
   "metadata": {},
   "outputs": [
    {
     "name": "stdout",
     "output_type": "stream",
     "text": [
      "Enter a Character: e\n",
      "Letter e is Vowel. \n"
     ]
    }
   ],
   "source": [
    "vowel = [\"A\",\"E\",\"I\",\"O\",\"U\",\"a\",\"e\",\"i\",\"o\",\"u\"]\n",
    "letter = input(\"Enter a Character: \")\n",
    "if letter in vowel:\n",
    "    print(\"Letter \" + letter +\" is Vowel. \")\n",
    "else:\n",
    "    print(\"Letter \" + letter +\" is not Vowel. \")"
   ]
  },
  {
   "cell_type": "code",
   "execution_count": 2,
   "metadata": {},
   "outputs": [
    {
     "name": "stdout",
     "output_type": "stream",
     "text": [
      "Enter a Character: N\n",
      "Letter N is not Vowel. \n"
     ]
    }
   ],
   "source": [
    "vowel = [\"A\",\"E\",\"I\",\"O\",\"U\",\"a\",\"e\",\"i\",\"o\",\"u\"]\n",
    "letter = input(\"Enter a Character: \")\n",
    "if letter in vowel:\n",
    "    print(\"Letter \" + letter +\" is Vowel. \")\n",
    "else:\n",
    "    print(\"Letter \" + letter +\" is not Vowel. \")"
   ]
  },
  {
   "cell_type": "code",
   "execution_count": null,
   "metadata": {},
   "outputs": [],
   "source": []
  },
  {
   "cell_type": "code",
   "execution_count": null,
   "metadata": {},
   "outputs": [],
   "source": []
  },
  {
   "cell_type": "markdown",
   "metadata": {},
   "source": [
    "## 8. Triangle area\n",
    "### Write a Python program that will accept the base and height of a triangle and compute the area\n",
    "###### Reference:\n",
    "https://www.mathgoodies.com/lessons/vol1/area_triangle"
   ]
  },
  {
   "cell_type": "code",
   "execution_count": 3,
   "metadata": {
    "scrolled": true
   },
   "outputs": [
    {
     "name": "stdout",
     "output_type": "stream",
     "text": [
      "Enter the Base of a Triangle: 10\n",
      "Enter the Height of a Triangle: 5\n",
      "\n",
      "=> Area of Triangle with Base 10.0 and Height 5.0 is: 25.0\n"
     ]
    }
   ],
   "source": [
    "base = float(input(\"Enter the Base of a Triangle: \"))\n",
    "height = float(input(\"Enter the Height of a Triangle: \"))\n",
    "triangle_area = (1/2)*(base*height)\n",
    "print(\"\\n=> Area of Triangle with Base \"+str(base)+\" and Height \"+str(height)+\" is: \"+str(triangle_area))"
   ]
  },
  {
   "cell_type": "code",
   "execution_count": null,
   "metadata": {},
   "outputs": [],
   "source": []
  },
  {
   "cell_type": "markdown",
   "metadata": {},
   "source": [
    "## 9. Calculate Interest\n",
    "### Write a Python program to compute the future value of a specified principal amount, rate of interest, and a number of years\n",
    "#### Program Console Sample 1:\n",
    "##### Please enter principal amount: 10000\n",
    "###### Please Enter Rate of interest in %: 0.1\n",
    "###### Enter number of years for investment: 5\n",
    "###### After 5 years your principal amount 10000 over an interest rate of 0.1 % will be 16105.1"
   ]
  },
  {
   "cell_type": "code",
   "execution_count": 4,
   "metadata": {},
   "outputs": [
    {
     "name": "stdout",
     "output_type": "stream",
     "text": [
      "Please Enter Principal Amount: 10000\n",
      "Please Enter Rate of Interest in %: 0.1\n",
      "Enter Number of Years for Investment: 5\n",
      "\n",
      "=> After 5.0 Years your Principal Amount 10000.0 over an Interest rate of 0.1 % will be: 16105.1\n"
     ]
    }
   ],
   "source": [
    "amount_1 = float(input(\"Please Enter Principal Amount: \"))\n",
    "interest_rate = float(input(\"Please Enter Rate of Interest in %: \"))\n",
    "time = float(input(\"Enter Number of Years for Investment: \"))\n",
    "amount_2 = amount_1*(1 + interest_rate)**time\n",
    "print(\"\\n=> After \"+str(time)+\" Years your Principal Amount \"+str(amount_1)+\" over an Interest rate of \"+str(interest_rate)+\" % will be: \"+str(round(amount_2,2)))"
   ]
  },
  {
   "cell_type": "code",
   "execution_count": null,
   "metadata": {},
   "outputs": [],
   "source": []
  },
  {
   "cell_type": "markdown",
   "metadata": {},
   "source": [
    "## 10. Euclidean distance\n",
    "### write a Python program to compute the distance between the points (x1, y1) and (x2, y2).\n",
    "#### Program Console Sample 1:\n",
    "###### Enter Co-ordinate for x1: 2\n",
    "###### Enter Co-ordinate for x2: 4\n",
    "###### Enter Co-ordinate for y1: 4\n",
    "###### Enter Co-ordinate for y2: 4\n",
    "###### Distance between points (2, 4) and (4, 4) is 2"
   ]
  },
  {
   "cell_type": "markdown",
   "metadata": {},
   "source": [
    "###### Reference:\n",
    "https://en.wikipedia.org/wiki/Euclidean_distance"
   ]
  },
  {
   "cell_type": "code",
   "execution_count": 5,
   "metadata": {},
   "outputs": [
    {
     "name": "stdout",
     "output_type": "stream",
     "text": [
      "Enter Co-ordinate for x1: 2\n",
      "Enter Co-ordinate for x2: 4\n",
      "Enter Co-ordinate for y1: 4\n",
      "Enter Co-ordinate for y2: 4\n",
      "\n",
      "=> Distance between points (2, 4) and (4, 4) is: 2.0\n"
     ]
    }
   ],
   "source": [
    "x1 = int(input(\"Enter Co-ordinate for x1: \"))\n",
    "x2 = int(input(\"Enter Co-ordinate for x2: \"))\n",
    "y1 = int(input(\"Enter Co-ordinate for y1: \"))\n",
    "y2 = int(input(\"Enter Co-ordinate for y2: \"))\n",
    "distance = ((x2-x1)**2+(y2-y1)**2)**0.5\n",
    "print(\"\\n=> Distance between points (\"+str(x1)+\", \"+str(x2)+\") and (\"+str(y1)+\", \"+str(y2)+\") is: \"+str(distance))"
   ]
  },
  {
   "cell_type": "code",
   "execution_count": null,
   "metadata": {},
   "outputs": [],
   "source": []
  },
  {
   "cell_type": "markdown",
   "metadata": {},
   "source": [
    "## 11. Feet to Centimeter Converter\n",
    "### Write a Python program to convert height in feet to centimetres.\n",
    "##### Program Console Sample 1:\n",
    "###### Enter Height in Feet: 5\n",
    "###### There are 152.4 Cm in 5 ft\n",
    "###### Reference:\n",
    "https://www.rapidtables.com/convert/length/feet-to-cm.html"
   ]
  },
  {
   "cell_type": "code",
   "execution_count": 6,
   "metadata": {},
   "outputs": [
    {
     "name": "stdout",
     "output_type": "stream",
     "text": [
      "Enter Height in Feet: 5\n",
      "\n",
      "=> There are 152.4 Cm in 5.0 ft.\n"
     ]
    }
   ],
   "source": [
    "height = float(input(\"Enter Height in Feet: \"))\n",
    "convert = height * 30.48\n",
    "print(\"\\n=> There are \" + str(convert) +\" Cm in \" + str(height) + \" ft.\")"
   ]
  },
  {
   "cell_type": "code",
   "execution_count": null,
   "metadata": {},
   "outputs": [],
   "source": []
  },
  {
   "cell_type": "markdown",
   "metadata": {},
   "source": [
    "## 12. BMI Calculator\n",
    "### Write a Python program to calculate body mass index\n",
    "##### Program Console Sample 1:\n",
    "###### Enter Height in Cm: 180\n",
    "###### Enter Weight in Kg: 75\n",
    "###### Your BMI is 23.15"
   ]
  },
  {
   "cell_type": "code",
   "execution_count": 7,
   "metadata": {},
   "outputs": [
    {
     "name": "stdout",
     "output_type": "stream",
     "text": [
      "Enter Height in Cm: 180\n",
      "Enter Weight in Kg: 75\n",
      "\n",
      "=> Your BMI is: 23.15\n"
     ]
    }
   ],
   "source": [
    "height_cm = float(input(\"Enter Height in Cm: \"))\n",
    "weight = float(input(\"Enter Weight in Kg: \"))\n",
    "height_meter = height_cm / 100\n",
    "bmi = weight/(height_meter)**2\n",
    "print(\"\\n=> Your BMI is: \" + str(round(bmi,2)))"
   ]
  },
  {
   "cell_type": "code",
   "execution_count": null,
   "metadata": {},
   "outputs": [],
   "source": []
  },
  {
   "cell_type": "markdown",
   "metadata": {},
   "source": [
    "## 13. Sum of n Positive Integers\n",
    "### Write a python program to sum of the first n positive integers\n",
    "#### Program Console Sample 1:\n",
    "###### Enter value of n: 5\n",
    "###### Sum of n Positive integers till 5 is 15"
   ]
  },
  {
   "cell_type": "code",
   "execution_count": 8,
   "metadata": {},
   "outputs": [
    {
     "name": "stdout",
     "output_type": "stream",
     "text": [
      "\t\t*** Calculate Sum of the first n positive integer ***\n",
      "Enter value of n: 5\n",
      "\n",
      "=> Sum of n Positive integers till 5 is: 15\n"
     ]
    }
   ],
   "source": [
    "print(\"\\t\\t*** Calculate Sum of the first n positive integer ***\")\n",
    "n = int(input(\"Enter value of n: \"))\n",
    "sum = (n*(n+1))/2\n",
    "print(\"\\n=> Sum of n Positive integers till \"+ str(n)+ ' is: '+ str(int(sum)))"
   ]
  },
  {
   "cell_type": "code",
   "execution_count": null,
   "metadata": {},
   "outputs": [],
   "source": []
  },
  {
   "cell_type": "markdown",
   "metadata": {},
   "source": [
    "## 14. Digits Sum of a Number\n",
    "### Write a Python program to calculate the sum of the digits in an integer\n",
    "#### Program Console Sample 1:\n",
    "##### Enter a number: 15\n",
    "###### Sum of 1 + 5 is 6\n",
    "#### Program Console Sample 2:\n",
    "##### Enter a number: 1234\n",
    "###### Sum of 1 + 2 + 3 + 4 is 10"
   ]
  },
  {
   "cell_type": "code",
   "execution_count": 7,
   "metadata": {},
   "outputs": [
    {
     "name": "stdout",
     "output_type": "stream",
     "text": [
      "enter you four number here : 1234\n",
      "1\n",
      "2\n",
      "3\n",
      "4\n",
      "Sum of 1 + 2 + 3 + 4 is 10\n"
     ]
    }
   ],
   "source": [
    "num = int(input(\"enter you four number here : \"))\n",
    "num1 = num // 1000\n",
    "print(num1)\n",
    "num2 = (num - num1*1000)//100\n",
    "print(num2)\n",
    "num3 = (num - num1*1000 - num2*100)//10\n",
    "print(num3)\n",
    "num4 = num - num1*1000 - num2*100 - num3*10\n",
    "print(num4)\n",
    "Sum = num1+num2+num3+num4\n",
    "print(\"Sum of \"+str(num1)+\" + \"+str(num2)+\" + \"+str(num3)+\" + \"+str(num4)+\" is \"+ str(Sum))"
   ]
  },
  {
   "cell_type": "code",
   "execution_count": null,
   "metadata": {},
   "outputs": [],
   "source": []
  }
 ],
 "metadata": {
  "kernelspec": {
   "display_name": "Python 3",
   "language": "python",
   "name": "python3"
  },
  "language_info": {
   "codemirror_mode": {
    "name": "ipython",
    "version": 3
   },
   "file_extension": ".py",
   "mimetype": "text/x-python",
   "name": "python",
   "nbconvert_exporter": "python",
   "pygments_lexer": "ipython3",
   "version": "3.7.3"
  }
 },
 "nbformat": 4,
 "nbformat_minor": 2
}
