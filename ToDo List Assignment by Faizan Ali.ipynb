{
 "cells": [
  {
   "cell_type": "markdown",
   "metadata": {},
   "source": [
    "# ToDo List Assignment by: Faizan Ali\n",
    "   ****  Name: Faizan Ali                    **** Roll no: AIC043502"
   ]
  },
  {
   "cell_type": "code",
   "execution_count": 2,
   "metadata": {},
   "outputs": [
    {
     "name": "stdout",
     "output_type": "stream",
     "text": [
      "Task to do:- ['Sehri', 'Namaz', 'Iftar', 'Traveh']\n",
      "These are the tasks to do. Please select those tasks which you have completed.\n",
      "\n",
      " => Enter the 1st completed task from given list: sehri\n",
      "Have you completed any other task? [Y/N] : y\n",
      "\n",
      " => Enter 2nd completed task: namaz\n",
      "Have you completed any other task? [Y/N] : y\n",
      "\n",
      " => Enter 3rd completed task: iftar\n",
      "Have you completed any other task? [Y/N] : y\n",
      "\n",
      " => Enter 4th completed task: traveh\n",
      "\n",
      " => Remaining Tasks:- []\n",
      " => Task Done:- ['Sehri', 'Namaz', 'Iftar', 'Traveh']\n",
      "\n",
      "\t\t*** Well Done... You have completed all the tasks. ***\n",
      "\n",
      "\t\t\t*** Credit goes to: Faizan Ali *** \n"
     ]
    }
   ],
   "source": [
    "task_to_do = [\"Sehri\",\"Namaz\",\"Iftar\",\"Traveh\"]\n",
    "task_done = []\n",
    "print(\"Task to do:- \"+str(task_to_do)+\"\\nThese are the tasks to do. Please select those tasks which you have completed.\")\n",
    "task1 = input(\"\\n => Enter the 1st completed task from given list: \").title()\n",
    "if task1 in task_to_do:\n",
    "    task_done.append(task1)\n",
    "    left1 = task_to_do.remove(task1)\n",
    "    q1 = input(\"Have you completed any other task? [Y/N] : \").upper()\n",
    "    if q1 == \"Y\":\n",
    "        task2 = input(\"\\n => Enter 2nd completed task: \").title()\n",
    "        if task2 in task_to_do:\n",
    "            task_done.append(task2)\n",
    "            left2 = task_to_do.remove(task2)\n",
    "            q2 = input(\"Have you completed any other task? [Y/N] : \").upper()\n",
    "            if q2 == \"Y\":\n",
    "                task3 = input(\"\\n => Enter 3rd completed task: \").title()\n",
    "                if task3 in task_to_do:\n",
    "                    task_done.append(task3)\n",
    "                    left3 = task_to_do.remove(task3)\n",
    "                    q3 = input(\"Have you completed any other task? [Y/N] : \").upper()\n",
    "                    if q3 == \"Y\":\n",
    "                        task4 = input(\"\\n => Enter 4th completed task: \").title()\n",
    "                        if task4 in task_to_do:\n",
    "                            task_done.append(task4)\n",
    "                            left4 = task_to_do.remove(task4)\n",
    "                            print(\"\\n => Remaining Tasks:- \" + str(task_to_do) + \"\\n => Task Done:- \" + str(task_done))\n",
    "                            print(\"\\n\\t\\t*** Well Done... You have completed all the tasks. ***\")\n",
    "                        else:\n",
    "                            print(\"  => This task is not in the given list.\"+\"\\n\\n => Remaining Tasks:- \"+str(task_to_do)+\"\\n => Task Done:- \"+str(task_done))\n",
    "                    elif q3 == \"N\":\n",
    "                        print(\"\\n => Remaining Tasks:- \" + str(task_to_do) + \"\\n => Task Done:- \" + str(task_done))\n",
    "                    else:\n",
    "                        print(\"\\n => Please only input 'Y' or 'N' .\")\n",
    "                else:\n",
    "                    print(\"  => This task is not in the given list.\"+\"\\n\\n => Remaining Tasks:- \"+str(task_to_do)+\"\\n => Task Done:- \"+str(task_done))\n",
    "            elif q2 == \"N\":\n",
    "                print(\"\\n => Remaining Tasks:- \" + str(task_to_do) + \"\\n => Task Done:- \" + str(task_done))\n",
    "            else:\n",
    "                print(\"\\n => Please only input 'Y' or 'N' .\")\n",
    "        else:\n",
    "            print(\"  => This task is not in the given list.\"+\"\\n\\n => Remaining Tasks:- \"+str(task_to_do)+\"\\n => Task Done:- \"+str(task_done))\n",
    "    elif q1 == \"N\":\n",
    "        print(\"\\n => Remaining Tasks:- \"+str(task_to_do)+\"\\n => Task Done:- \"+str(task_done))\n",
    "    else:\n",
    "        print(\"\\n => Please only input 'Y' or 'N' .\")\n",
    "else:\n",
    "    print(\"  => This task is not in the given list.\")\n",
    "print(\"\\n\\t\\t\\t*** Credit goes to: Faizan Ali *** \")"
   ]
  },
  {
   "cell_type": "code",
   "execution_count": null,
   "metadata": {},
   "outputs": [],
   "source": []
  },
  {
   "cell_type": "code",
   "execution_count": null,
   "metadata": {},
   "outputs": [
    {
     "name": "stdout",
     "output_type": "stream",
     "text": [
      "Todays task list : ['Sehri', 'Namaz', 'Quran', 'Assignment', 'Iftar']\n",
      "\n",
      "Enter completed task : namaz\n",
      "Remaining Tasks : ['Sehri', 'Quran', 'Assignment', 'Iftar'] \n",
      "Completed Tasks : ['Namaz'] \n",
      "\n",
      "Did you completed another task [Y/N] : y\n",
      "Enter completed task : sdsdg\n",
      "Given task isn't present in task list.\n",
      "Do you want to add this task in your task list?[Y/N]: y\n",
      "['Sehri', 'Quran', 'Assignment', 'Iftar', 'Sdsdg']\n",
      "Enter completed task : dgs\\\n",
      "Given task isn't present in task list.\n"
     ]
    }
   ],
   "source": [
    "task_list = [\"Sehri\", \"Namaz\", \"Quran\", \"Assignment\", \"Iftar\"]\n",
    "complete_task = []\n",
    "add_task = []\n",
    "\n",
    "print(\"Todays task list : {}\\n\".format(task_list))\n",
    "\n",
    "def todo():\n",
    "    if len(task_list) > 0:\n",
    "        task = input(\"Enter completed task : \").title()\n",
    "        if task in task_list:\n",
    "            task = task_list.pop(task_list.index(task))\n",
    "            complete_task.append(task)  \n",
    "        else:\n",
    "            print(\"Given task isn't present in task list.\")\n",
    "            add_task = input(\"Do you want to add this task in your task list?[Y/N]: \").upper()\n",
    "            if add_task =='Y':\n",
    "                if task not in task_list:\n",
    "                    task_list.append(task)\n",
    "                    print(task_list)\n",
    "                else:\n",
    "                    print(task_list)\n",
    "                    # function can call it in itself seriously!!\n",
    "            todo()\n",
    "\n",
    "        \n",
    "def task_check():\n",
    "    if len(task_list) == 0:\n",
    "        print(\"All the tasks are Compleed.\")\n",
    "    else:\n",
    "        if len(complete_task) == 0:\n",
    "            todo()\n",
    "            print(\"Remaining Tasks : {} \\nCompleted Tasks : {} \\n\".format(task_list, complete_task))\n",
    "            task_check()\n",
    "        elif len(complete_task) > 0:\n",
    "            another_task = input(\"Did you completed another task [Y/N] : \").upper()\n",
    "            if len(complete_task) > 0 and another_task == \"Y\":\n",
    "                todo()\n",
    "                print(\"Remaining Tasks : {} \\nCompleted Tasks : {}\\n\".format(task_list, complete_task))\n",
    "                task_check()\n",
    "            elif len(complete_task) > 0 and another_task == \"N\":\n",
    "                exit()\n",
    "            else:\n",
    "                print(\"Error! Invalid command.\")\n",
    "                task_check()\n",
    "task_check()\n"
   ]
  },
  {
   "cell_type": "code",
   "execution_count": null,
   "metadata": {},
   "outputs": [],
   "source": []
  }
 ],
 "metadata": {
  "kernelspec": {
   "display_name": "Python 3",
   "language": "python",
   "name": "python3"
  },
  "language_info": {
   "codemirror_mode": {
    "name": "ipython",
    "version": 3
   },
   "file_extension": ".py",
   "mimetype": "text/x-python",
   "name": "python",
   "nbconvert_exporter": "python",
   "pygments_lexer": "ipython3",
   "version": "3.7.3"
  }
 },
 "nbformat": 4,
 "nbformat_minor": 2
}
