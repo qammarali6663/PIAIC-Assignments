{
 "cells": [
  {
   "cell_type": "markdown",
   "metadata": {},
   "source": [
    "# Q1:"
   ]
  },
  {
   "cell_type": "raw",
   "metadata": {},
   "source": [
    "Store a message in a variable, and then print that\n",
    "message."
   ]
  },
  {
   "cell_type": "code",
   "execution_count": 8,
   "metadata": {},
   "outputs": [],
   "source": [
    "variable1 = \"Hellow, World\""
   ]
  },
  {
   "cell_type": "code",
   "execution_count": 9,
   "metadata": {},
   "outputs": [
    {
     "name": "stdout",
     "output_type": "stream",
     "text": [
      "Hellow, World\n"
     ]
    }
   ],
   "source": [
    "print(variable1)"
   ]
  },
  {
   "cell_type": "markdown",
   "metadata": {},
   "source": [
    "# Q2:"
   ]
  },
  {
   "cell_type": "raw",
   "metadata": {},
   "source": [
    "Store a message in a variable, and print that message.\n",
    "Then change the value of your variable to a new message, and print the new\n",
    "message."
   ]
  },
  {
   "cell_type": "code",
   "execution_count": 10,
   "metadata": {},
   "outputs": [],
   "source": [
    "variable2 = \"Pakistan will win the cricket World Cup.\""
   ]
  },
  {
   "cell_type": "code",
   "execution_count": 11,
   "metadata": {},
   "outputs": [
    {
     "name": "stdout",
     "output_type": "stream",
     "text": [
      "Pakistan will win the cricket World Cup.\n"
     ]
    }
   ],
   "source": [
    "print(variable2)"
   ]
  },
  {
   "cell_type": "code",
   "execution_count": 14,
   "metadata": {},
   "outputs": [],
   "source": [
    "variable2 = \"Inshallah\""
   ]
  },
  {
   "cell_type": "code",
   "execution_count": 15,
   "metadata": {},
   "outputs": [
    {
     "name": "stdout",
     "output_type": "stream",
     "text": [
      "Inshallah\n"
     ]
    }
   ],
   "source": [
    "print(variable2)"
   ]
  },
  {
   "cell_type": "markdown",
   "metadata": {},
   "source": [
    "# Q3:"
   ]
  },
  {
   "cell_type": "raw",
   "metadata": {},
   "source": [
    "Store a person’s name in a variable, and print a message to that person. Your message should be simple, such as, “Hello Shahzad,\n",
    "would you like to learn some Python today?”"
   ]
  },
  {
   "cell_type": "code",
   "execution_count": 16,
   "metadata": {},
   "outputs": [],
   "source": [
    "variable3 = \"Faizan Ali\""
   ]
  },
  {
   "cell_type": "code",
   "execution_count": 17,
   "metadata": {},
   "outputs": [
    {
     "name": "stdout",
     "output_type": "stream",
     "text": [
      "Hellow Faizan Ali, Please come here help me out.\n"
     ]
    }
   ],
   "source": [
    "print(\"Hellow \" + variable3 + \", Please come here help me out.\")"
   ]
  },
  {
   "cell_type": "markdown",
   "metadata": {},
   "source": [
    "# Q4:"
   ]
  },
  {
   "cell_type": "raw",
   "metadata": {},
   "source": [
    "Store a person’s name in a variable, and then print that person’s name in lowercase, uppercase, and titlecase."
   ]
  },
  {
   "cell_type": "code",
   "execution_count": 20,
   "metadata": {},
   "outputs": [
    {
     "name": "stdout",
     "output_type": "stream",
     "text": [
      "faizan ali\n"
     ]
    }
   ],
   "source": [
    "name1 = \"FaiZAn ALI\"\n",
    "print(name1.lower())"
   ]
  },
  {
   "cell_type": "code",
   "execution_count": 21,
   "metadata": {},
   "outputs": [
    {
     "name": "stdout",
     "output_type": "stream",
     "text": [
      "FAIZAN ALI\n"
     ]
    }
   ],
   "source": [
    "print(name1.upper())"
   ]
  },
  {
   "cell_type": "code",
   "execution_count": 22,
   "metadata": {},
   "outputs": [
    {
     "name": "stdout",
     "output_type": "stream",
     "text": [
      "Faizan Ali\n"
     ]
    }
   ],
   "source": [
    "print(name1.title())"
   ]
  },
  {
   "cell_type": "markdown",
   "metadata": {},
   "source": [
    "# Q5:"
   ]
  },
  {
   "cell_type": "raw",
   "metadata": {},
   "source": [
    "Find a quote from a famous person you admire. Print the\n",
    "quote and the name of its author. Your output should look something like the\n",
    "following, including the quotation marks:\n",
    "    \n",
    "    \n",
    "Albert Einstein once said, “A person who never made a\n",
    "mistake never tried anything new.”"
   ]
  },
  {
   "cell_type": "code",
   "execution_count": 28,
   "metadata": {},
   "outputs": [],
   "source": [
    "quote = '''Woody Allen once said,\"If you’re not failing every now and again, it’s a sign you’re not doing anything very innovative.\"'''"
   ]
  },
  {
   "cell_type": "code",
   "execution_count": 29,
   "metadata": {},
   "outputs": [
    {
     "name": "stdout",
     "output_type": "stream",
     "text": [
      "Woody Allen once said,\"If you’re not failing every now and again, it’s a sign you’re not doing anything very innovative.\"\n"
     ]
    }
   ],
   "source": [
    "print(quote)"
   ]
  },
  {
   "cell_type": "markdown",
   "metadata": {},
   "source": [
    "# Q6:"
   ]
  },
  {
   "cell_type": "raw",
   "metadata": {},
   "source": [
    "Write addition, subtraction, multiplication, and division\n",
    "operations that each result in the number 8. Be sure to enclose your operations\n",
    "in print statements to see the results. You should create four lines that look\n",
    "like this:\n",
    "    \n",
    "    \n",
    "print(5 + 3)"
   ]
  },
  {
   "cell_type": "code",
   "execution_count": 35,
   "metadata": {},
   "outputs": [
    {
     "name": "stdout",
     "output_type": "stream",
     "text": [
      "6 + 2 = 8\n"
     ]
    }
   ],
   "source": [
    "print(\"6 + 2 = \" + str(6+2))"
   ]
  },
  {
   "cell_type": "code",
   "execution_count": 37,
   "metadata": {},
   "outputs": [
    {
     "name": "stdout",
     "output_type": "stream",
     "text": [
      "12 - 4 = 8\n"
     ]
    }
   ],
   "source": [
    "print(\"12 - 4 = \" + str(12-4))"
   ]
  },
  {
   "cell_type": "code",
   "execution_count": 38,
   "metadata": {},
   "outputs": [
    {
     "name": "stdout",
     "output_type": "stream",
     "text": [
      "4 * 2 = 8\n"
     ]
    }
   ],
   "source": [
    "print(\"4 * 2 = \" + str(4*2))"
   ]
  },
  {
   "cell_type": "code",
   "execution_count": 40,
   "metadata": {},
   "outputs": [
    {
     "name": "stdout",
     "output_type": "stream",
     "text": [
      "16 / 2 = 8\n"
     ]
    }
   ],
   "source": [
    "print(\"16 / 2 = \" + str(16//2))"
   ]
  },
  {
   "cell_type": "markdown",
   "metadata": {},
   "source": [
    "# Q7:"
   ]
  },
  {
   "cell_type": "raw",
   "metadata": {},
   "source": [
    "Create a variable called number1 with the value of 8.\n",
    "Write a print statement to print number1 multiplied by 9."
   ]
  },
  {
   "cell_type": "code",
   "execution_count": 44,
   "metadata": {},
   "outputs": [],
   "source": [
    "number1 = 8"
   ]
  },
  {
   "cell_type": "code",
   "execution_count": 45,
   "metadata": {},
   "outputs": [
    {
     "name": "stdout",
     "output_type": "stream",
     "text": [
      "72\n"
     ]
    }
   ],
   "source": [
    "print(number1*9)"
   ]
  },
  {
   "cell_type": "markdown",
   "metadata": {},
   "source": [
    "# Q8:"
   ]
  },
  {
   "cell_type": "raw",
   "metadata": {},
   "source": [
    "Store your favorite number in a variable. Then, using\n",
    "that variable, create a message that reveals your favorite number. Print that\n",
    "message."
   ]
  },
  {
   "cell_type": "code",
   "execution_count": 47,
   "metadata": {},
   "outputs": [],
   "source": [
    "fav_number = 3"
   ]
  },
  {
   "cell_type": "code",
   "execution_count": 48,
   "metadata": {},
   "outputs": [
    {
     "name": "stdout",
     "output_type": "stream",
     "text": [
      "My favourite number is: 3\n"
     ]
    }
   ],
   "source": [
    "print(\"My favourite number is: \" + str(fav_number))"
   ]
  },
  {
   "cell_type": "markdown",
   "metadata": {},
   "source": [
    "# Q9:"
   ]
  },
  {
   "cell_type": "raw",
   "metadata": {},
   "source": [
    "Store your name and your age in a varibale called my_name and my_age.\n",
    "Use format method to print your name and your age.\n",
    "Your final output sholud be like this:\n",
    "\n",
    "OUTPUT:    \n",
    "My name is Shahzad Ahsan and my age is 21.\n",
    "\n",
    "NOTE:Use both of the format methods which were discuss in the class."
   ]
  },
  {
   "cell_type": "code",
   "execution_count": 56,
   "metadata": {},
   "outputs": [],
   "source": [
    "my_name = \"Faizan Ali\""
   ]
  },
  {
   "cell_type": "code",
   "execution_count": 57,
   "metadata": {},
   "outputs": [],
   "source": [
    "my_age = \"18\""
   ]
  },
  {
   "cell_type": "code",
   "execution_count": 58,
   "metadata": {},
   "outputs": [
    {
     "name": "stdout",
     "output_type": "stream",
     "text": [
      "My name is Faizan Ali and my age is 18.\n"
     ]
    }
   ],
   "source": [
    "print(\"My name is \"+ my_name + \" and my age is \" + my_age +\".\")"
   ]
  },
  {
   "cell_type": "code",
   "execution_count": 62,
   "metadata": {},
   "outputs": [
    {
     "name": "stdout",
     "output_type": "stream",
     "text": [
      "My name is Faizan Ali and my age is 18.\n"
     ]
    }
   ],
   "source": [
    "print(\"My name is {}\".format(my_name)+\" and my age is {}\".format(my_age)+\".\")"
   ]
  },
  {
   "cell_type": "markdown",
   "metadata": {},
   "source": [
    "# Q10:"
   ]
  },
  {
   "cell_type": "raw",
   "metadata": {},
   "source": [
    "Write a Python program to check if a number is positive, negative or zero."
   ]
  },
  {
   "cell_type": "code",
   "execution_count": 65,
   "metadata": {},
   "outputs": [
    {
     "name": "stdout",
     "output_type": "stream",
     "text": [
      "Enter a Number: 10\n",
      "The number you entered is Positive. \n"
     ]
    }
   ],
   "source": [
    "number = float(input(\"Enter a Number: \"))\n",
    "if number == 0:\n",
    "    print(\"The number you entered is Zero. \")\n",
    "elif number >0:\n",
    "    print(\"The number you entered is Positive. \")\n",
    "else:\n",
    "    print(\"The number you entered is Negative. \")"
   ]
  },
  {
   "cell_type": "code",
   "execution_count": 67,
   "metadata": {},
   "outputs": [
    {
     "name": "stdout",
     "output_type": "stream",
     "text": [
      "Enter a Number: -10\n",
      "The number you entered is Negative. \n"
     ]
    }
   ],
   "source": [
    "number = float(input(\"Enter a Number: \"))\n",
    "if number == 0:\n",
    "    print(\"The number you entered is Zero. \")\n",
    "elif number >0:\n",
    "    print(\"The number you entered is Positive. \")\n",
    "else:\n",
    "    print(\"The number you entered is Negative. \")"
   ]
  },
  {
   "cell_type": "code",
   "execution_count": 68,
   "metadata": {},
   "outputs": [
    {
     "name": "stdout",
     "output_type": "stream",
     "text": [
      "Enter a Number: 0\n",
      "The number you entered is Zero. \n"
     ]
    }
   ],
   "source": [
    "number = float(input(\"Enter a Number: \"))\n",
    "if number == 0:\n",
    "    print(\"The number you entered is Zero. \")\n",
    "elif number >0:\n",
    "    print(\"The number you entered is Positive. \")\n",
    "else:\n",
    "    print(\"The number you entered is Negative. \")"
   ]
  },
  {
   "cell_type": "markdown",
   "metadata": {},
   "source": [
    "# Q11:"
   ]
  },
  {
   "cell_type": "raw",
   "metadata": {},
   "source": [
    "Write a Python program which accepts the radius of a circle from the user and compute the\n",
    "area."
   ]
  },
  {
   "cell_type": "code",
   "execution_count": 81,
   "metadata": {},
   "outputs": [
    {
     "name": "stdout",
     "output_type": "stream",
     "text": [
      "Enter Radius of Circle: 10\n",
      "Area of Circle whose radius is 10.0 is: 314.2\n"
     ]
    }
   ],
   "source": [
    "radius = float(input(\"Enter Radius of Circle: \"))\n",
    "area = 3.142*(radius**2)\n",
    "                     \n",
    "print(\"Area of Circle whose radius is \" + str(radius)+\" is: \" + str(area))"
   ]
  },
  {
   "cell_type": "code",
   "execution_count": null,
   "metadata": {},
   "outputs": [],
   "source": []
  },
  {
   "cell_type": "markdown",
   "metadata": {},
   "source": [
    "# Q12:"
   ]
  },
  {
   "cell_type": "raw",
   "metadata": {},
   "source": [
    "Write a Python function to check whether a number is completely divisible by another\n",
    "number. Accept two integer values form the user"
   ]
  },
  {
   "cell_type": "code",
   "execution_count": 8,
   "metadata": {},
   "outputs": [
    {
     "name": "stdout",
     "output_type": "stream",
     "text": [
      "Enter First Integer Values: 15\n",
      "Enter Second Integer Values: 5\n",
      "\n",
      "15.0 is completely divisible by 5.0\n"
     ]
    }
   ],
   "source": [
    "num1 = float(input(\"Enter first integer values: \".title()))\n",
    "num2 = float(input(\"Enter second integer values: \".title()))\n",
    "divide = num1 % num2\n",
    "if divide == 0:\n",
    "    print(\"\\n\" + str(num1) + \" is completely divisible by \" + str(num2))\n",
    "else:\n",
    "    print(\"\\n\"+str(num1)+\" is not completely divisible by \"+str(num2)+\" and Remainder is: \"+str(divide))"
   ]
  },
  {
   "cell_type": "code",
   "execution_count": 9,
   "metadata": {},
   "outputs": [
    {
     "name": "stdout",
     "output_type": "stream",
     "text": [
      "Enter First Integer Values: 50\n",
      "Enter Second Integer Values: 30\n",
      "\n",
      "50.0 is not completely divisible by 30.0 and Remainder is: 20.0\n"
     ]
    }
   ],
   "source": [
    "num1 = float(input(\"Enter first integer values: \".title()))\n",
    "num2 = float(input(\"Enter second integer values: \".title()))\n",
    "divide = num1 % num2\n",
    "if divide == 0:\n",
    "    print(\"\\n\" + str(num1) + \" is completely divisible by \" + str(num2))\n",
    "else:\n",
    "    print(\"\\n\"+str(num1)+\" is not completely divisible by \"+str(num2)+\" and Remainder is: \"+str(divide))"
   ]
  },
  {
   "cell_type": "markdown",
   "metadata": {},
   "source": [
    "# Q13:"
   ]
  },
  {
   "cell_type": "raw",
   "metadata": {},
   "source": [
    "Write a Python program to find whether a given number (accept from the user) is even or\n",
    "odd, print out an appropriate message to the user."
   ]
  },
  {
   "cell_type": "code",
   "execution_count": 13,
   "metadata": {},
   "outputs": [
    {
     "name": "stdout",
     "output_type": "stream",
     "text": [
      "Enter A Number: 10\n",
      "\n",
      "=> The number you entered (10.0) is Even.\n"
     ]
    }
   ],
   "source": [
    "number = float(input(\"Enter a number: \".title()))\n",
    "remainder = number % 2\n",
    "if remainder == 0:\n",
    "    print(\"\\n=> The number you entered (\" + str(number) + \") is Even.\")\n",
    "else:\n",
    "    print(\"\\n=> The number you entered (\" + str(number) + \") is Odd.\")"
   ]
  },
  {
   "cell_type": "code",
   "execution_count": 14,
   "metadata": {},
   "outputs": [
    {
     "name": "stdout",
     "output_type": "stream",
     "text": [
      "Enter A Number: 11\n",
      "\n",
      "=> The number you entered (11.0) is Odd.\n"
     ]
    }
   ],
   "source": [
    "number = float(input(\"Enter a number: \".title()))\n",
    "remainder = number % 2\n",
    "if remainder == 0:\n",
    "    print(\"\\n=>The number you entered (\" + str(number) + \") is Even.\")\n",
    "else:\n",
    "    print(\"\\n=> The number you entered (\" + str(number) + \") is Odd.\")"
   ]
  },
  {
   "cell_type": "markdown",
   "metadata": {},
   "source": [
    "# Q14:"
   ]
  },
  {
   "cell_type": "raw",
   "metadata": {},
   "source": [
    " Print a suitable statement that uses their response. Such as, if they entered “Bangkok”: “I’d love to visit Bangkook more often”."
   ]
  },
  {
   "cell_type": "code",
   "execution_count": 21,
   "metadata": {},
   "outputs": [
    {
     "name": "stdout",
     "output_type": "stream",
     "text": [
      "Entered The Place You Want To Visit: gilgit\n",
      "Gilgit is a beautiful place, You should visit Gilgit.\n"
     ]
    }
   ],
   "source": [
    "place = input(\"Entered the place you want to visit: \".title()).title()\n",
    "print(place + \" is a beautiful place, You should visit \" + place + \".\")"
   ]
  },
  {
   "cell_type": "code",
   "execution_count": null,
   "metadata": {},
   "outputs": [],
   "source": []
  },
  {
   "cell_type": "markdown",
   "metadata": {},
   "source": [
    "# Q15:"
   ]
  },
  {
   "cell_type": "raw",
   "metadata": {},
   "source": [
    "Write an input line to ask a user whether they want to take the red pill or the blue pill.\n",
    "\n",
    " If they write “red” then print “You stay in wonderland and see how far the rabbit hole goes”.\n",
    " \n",
    " Elif they write “blue” then print “You wake up in your bed and believe what you want to believe.”.\n",
    " \n",
    " Else print “That’s not an option Neo.”"
   ]
  },
  {
   "cell_type": "code",
   "execution_count": 2,
   "metadata": {},
   "outputs": [
    {
     "name": "stdout",
     "output_type": "stream",
     "text": [
      "Choose any one pill: [Red / Blue] ReD\n",
      "You stay in wonderland and see how far the rabbit hole goes.\n"
     ]
    }
   ],
   "source": [
    "pill = input(\"Choose any one pill: [Red / Blue] \").lower()\n",
    "if pill == \"red\":\n",
    "    print(\"You stay in wonderland and see how far the rabbit hole goes.\")\n",
    "elif pill == \"blue\":\n",
    "    print(\"You wake up in your bed and believe what you want to believe.\")\n",
    "else:\n",
    "    print(\"That’s not an option Neo.\")"
   ]
  },
  {
   "cell_type": "code",
   "execution_count": 3,
   "metadata": {},
   "outputs": [
    {
     "name": "stdout",
     "output_type": "stream",
     "text": [
      "Choose any one pill: [Red / Blue] BLUE\n",
      "You wake up in your bed and believe what you want to believe.\n"
     ]
    }
   ],
   "source": [
    "pill = input(\"Choose any one pill: [Red / Blue] \").lower()\n",
    "if pill == \"red\":\n",
    "    print(\"You stay in wonderland and see how far the rabbit hole goes.\")\n",
    "elif pill == \"blue\":\n",
    "    print(\"You wake up in your bed and believe what you want to believe.\")\n",
    "else:\n",
    "    print(\"That’s not an option Neo.\")"
   ]
  },
  {
   "cell_type": "code",
   "execution_count": 4,
   "metadata": {},
   "outputs": [
    {
     "name": "stdout",
     "output_type": "stream",
     "text": [
      "Choose any one pill: [Red / Blue] GREEN\n",
      "That’s not an option Neo.\n"
     ]
    }
   ],
   "source": [
    "pill = input(\"Choose any one pill: [Red / Blue] \").lower()\n",
    "if pill == \"red\":\n",
    "    print(\"You stay in wonderland and see how far the rabbit hole goes.\")\n",
    "elif pill == \"blue\":\n",
    "    print(\"You wake up in your bed and believe what you want to believe.\")\n",
    "else:\n",
    "    print(\"That’s not an option Neo.\")"
   ]
  },
  {
   "cell_type": "code",
   "execution_count": null,
   "metadata": {},
   "outputs": [],
   "source": []
  }
 ],
 "metadata": {
  "kernelspec": {
   "display_name": "Python 3",
   "language": "python",
   "name": "python3"
  },
  "language_info": {
   "codemirror_mode": {
    "name": "ipython",
    "version": 3
   },
   "file_extension": ".py",
   "mimetype": "text/x-python",
   "name": "python",
   "nbconvert_exporter": "python",
   "pygments_lexer": "ipython3",
   "version": "3.7.3"
  }
 },
 "nbformat": 4,
 "nbformat_minor": 2
}
